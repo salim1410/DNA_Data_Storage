{
  "nbformat": 4,
  "nbformat_minor": 0,
  "metadata": {
    "colab": {
      "provenance": []
    },
    "kernelspec": {
      "name": "python3",
      "display_name": "Python 3"
    },
    "language_info": {
      "name": "python"
    }
  },
  "cells": [
    {
      "source": [
        "import os  # Importing the OS module for file operations\n",
        "import argparse  # Importing argparse for handling command-line arguments\n",
        "from IPython import get_ipython  # Importing get_ipython for executing shell commands in Jupyter\n",
        "\n",
        "# ---------------------------- File to Binary ----------------------------\n",
        "\n",
        "def file_to_binary(file_path, output_binary=\"binary_output.txt\"):\n",
        "    \"\"\"Convert any file to binary and save it as a .txt file.\"\"\"\n",
        "    if not os.path.exists(file_path):  # Checking if the input file exists\n",
        "        raise FileNotFoundError(f\"❌ File not found: {file_path}\")\n",
        "\n",
        "    with open(file_path, \"rb\") as f:  # Opening file in binary read mode\n",
        "        binary_data = f.read()  # Reading the entire file content as binary\n",
        "        binary_string = \"\".join(\n",
        "            format(byte, \"08b\") for byte in binary_data  # Converting each byte to 8-bit binary\n",
        "        )\n",
        "\n",
        "    output_path = os.path.abspath(output_binary)  # Getting absolute path of the output file\n",
        "    with open(output_binary, \"w\") as f:  # Opening the output file in write mode\n",
        "        f.write(binary_string)  # Writing the binary string to the output file\n",
        "\n",
        "    print(f\"✅ Binary conversion successful: {output_path}\")  # Printing success message\n",
        "    return output_path  # Returning the output file path\n",
        "\n",
        "# ---------------------------- Binary to DNA ----------------------------\n",
        "\n",
        "def binary_to_dna(binary_file, dna_output=\"dna_output.txt\"):\n",
        "    \"\"\"Convert binary file content to DNA sequence and save it.\"\"\"\n",
        "    mapping = {\"00\": \"A\", \"01\": \"C\", \"10\": \"G\", \"11\": \"T\"}  # Defining binary-to-DNA mapping\n",
        "\n",
        "    if not os.path.exists(binary_file):  # Checking if binary file exists\n",
        "        raise FileNotFoundError(f\"❌ Binary file not found: {binary_file}\")\n",
        "\n",
        "    with open(binary_file, \"r\") as f:  # Opening the binary file in read mode\n",
        "        binary_string = f.read().strip()  # Reading and stripping any extra spaces\n",
        "\n",
        "    # Ensuring even length for pairing (if odd, add '0' at the end)\n",
        "    if len(binary_string) % 2 != 0:\n",
        "        binary_string += \"0\"\n",
        "\n",
        "    # Converting binary pairs to DNA sequence\n",
        "    dna_sequence = \"\".join(\n",
        "        mapping[binary_string[i : i + 2]] for i in range(0, len(binary_string), 2)\n",
        "    )\n",
        "\n",
        "    output_path = os.path.abspath(dna_output)  # Getting absolute path of DNA output file\n",
        "    with open(dna_output, \"w\") as f:  # Opening the output file in write mode\n",
        "        f.write(dna_sequence)  # Writing the DNA sequence to the output file\n",
        "\n",
        "    print(f\"✅ DNA sequence saved: {output_path}\")  # Printing success message\n",
        "    return output_path  # Returning the output file path\n",
        "\n",
        "# ---------------------------- Main Execution ----------------------------\n",
        "\n",
        "if __name__ == \"__main__\":\n",
        "    # Simulate command-line arguments for Jupyter environment\n",
        "    get_ipython().system('python your_script_name.py input.txt')  # Replace with actual script name & input file\n"
      ],
      "cell_type": "code",
      "metadata": {
        "colab": {
          "base_uri": "https://localhost:8080/"
        },
        "id": "OZduucD7Z4AM",
        "outputId": "e2bd4f49-9dd2-4aec-a038-e8cafa174782"
      },
      "execution_count": 2,
      "outputs": [
        {
          "output_type": "stream",
          "name": "stdout",
          "text": [
            "python3: can't open file '/content/your_script_name.py': [Errno 2] No such file or directory\n"
          ]
        }
      ]
    }
  ]
}